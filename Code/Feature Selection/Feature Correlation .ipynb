{
 "cells": [
  {
   "cell_type": "code",
   "execution_count": 1,
   "id": "73c5f718",
   "metadata": {},
   "outputs": [],
   "source": [
    "import tribolium_clustering as tc\n",
    "import matplotlib.pyplot as plt\n",
    "\n",
    "lund = tc.processed_dataset(tc.get_folder_path('lund'))\n",
    "wolgast = tc.processed_dataset(tc.get_folder_path('wolgast'))\n",
    "finsterwalde = tc.processed_dataset(tc.get_folder_path('finsterwalde'))"
   ]
  },
  {
   "cell_type": "code",
   "execution_count": 3,
   "id": "0b5b7054",
   "metadata": {},
   "outputs": [
    {
     "name": "stdout",
     "output_type": "stream",
     "text": [
      "No Predictions in Regionprops of C:/Users/ryans/Documents/output data (big)/Lund Gastrulation Correct voxel sizes//\n",
      "No Predictions in Regionprops of C:/Users/ryans/Documents/output data (big)/Wolgast Gastrulation Labels//\n",
      "No Predictions in Regionprops of C:/Users/ryans/Documents/output data (big)/Finsterwalde Gastrulation Labels (new timeframe)//\n"
     ]
    }
   ],
   "source": [
    "complete_regprops = [data.get_combined_regionprops() for data in [lund,wolgast,finsterwalde]]"
   ]
  },
  {
   "cell_type": "code",
   "execution_count": 5,
   "id": "e5221b5d",
   "metadata": {},
   "outputs": [],
   "source": [
    "def agglomerate_corr_feats(correlating_features_sets):\n",
    "    new_sets = []\n",
    "    for i in correlating_features_sets:\n",
    "        unique_set = True\n",
    "        \n",
    "        for j in correlating_features_sets:\n",
    "            intersect = i&j\n",
    "            if len(intersect) > 0 and i != j:\n",
    "                unique_set = False\n",
    "                union = (i|j)\n",
    "                if union not in new_sets:\n",
    "                    new_sets.append(i|j)\n",
    "                \n",
    "        if unique_set:\n",
    "            new_sets.append(i)\n",
    "            \n",
    "    if new_sets == correlating_features_sets:\n",
    "        return new_sets\n",
    "    else:\n",
    "        return agglomerate_corr_feats(new_sets)\n",
    "\n",
    "def correlation_readout(df_regprops, threshold = 0.95):\n",
    "    import numpy as np\n",
    "    import pandas as pd\n",
    "    import PySimpleGUI as sg\n",
    "\n",
    "    # Actually finding the correlating features with pandas\n",
    "    correlation_df = df_regprops.corr().abs()\n",
    "    correlation_matrix = correlation_df.to_numpy()\n",
    "\n",
    "    # using numpy to get the correlating features out of the matrix\n",
    "    mask = np.ones(correlation_matrix.shape, dtype= bool)\n",
    "    mask = np.triu(mask, k = 1)\n",
    "    masked_array = correlation_matrix * mask\n",
    "    highly_corr = np.where(masked_array >= threshold)\n",
    "\n",
    "    # Using sets as a datatype for easier agglomeration of the features\n",
    "    # afterwards conversion back to list\n",
    "    correlating_feats = [{i,j} for i,j in zip(highly_corr[0],highly_corr[1])]    \n",
    "    correlating_feats_agglo = agglomerate_corr_feats(correlating_feats)\n",
    "    corr_ind_list = [sorted(list(i)) for i in correlating_feats_agglo]\n",
    "    \n",
    "    # getting the keys and then turning the indices into keys\n",
    "    keys = df_regprops.keys()\n",
    "    correlating_keys = [keys[ind].tolist() for ind in corr_ind_list]\n",
    "    \n",
    "    return correlating_keys"
   ]
  },
  {
   "cell_type": "markdown",
   "id": "12bf87ab",
   "metadata": {},
   "source": [
    "# lund readout"
   ]
  },
  {
   "cell_type": "code",
   "execution_count": 6,
   "id": "eb2a7ee1",
   "metadata": {},
   "outputs": [],
   "source": [
    "correlating_keys = [correlation_readout(prop) for prop in complete_regprops]"
   ]
  },
  {
   "cell_type": "code",
   "execution_count": 7,
   "id": "29cc379f",
   "metadata": {},
   "outputs": [
    {
     "data": {
      "text/plain": [
       "[['area',\n",
       "  'bbox_area',\n",
       "  'convex_area',\n",
       "  'equivalent_diameter',\n",
       "  'filled_area',\n",
       "  'minor_axis_length'],\n",
       " ['feret_diameter_max', 'major_axis_length'],\n",
       " ['centroid-0', 'weighted_centroid-0'],\n",
       " ['centroid-1', 'weighted_centroid-1'],\n",
       " ['centroid-2', 'weighted_centroid-2'],\n",
       " ['avg distance of 4 closest points',\n",
       "  'avg distance of 5 closest points',\n",
       "  'avg distance of 6 closest points'],\n",
       " ['stddev distance of 4 closest points',\n",
       "  'stddev distance of 5 closest points',\n",
       "  'stddev distance of 6 closest points']]"
      ]
     },
     "execution_count": 7,
     "metadata": {},
     "output_type": "execute_result"
    }
   ],
   "source": [
    "correlating_keys[0]"
   ]
  },
  {
   "cell_type": "code",
   "execution_count": 8,
   "id": "61bbf587",
   "metadata": {},
   "outputs": [
    {
     "data": {
      "text/plain": [
       "[['area',\n",
       "  'bbox_area',\n",
       "  'convex_area',\n",
       "  'equivalent_diameter',\n",
       "  'filled_area',\n",
       "  'minor_axis_length'],\n",
       " ['feret_diameter_max', 'major_axis_length'],\n",
       " ['centroid-0', 'weighted_centroid-0'],\n",
       " ['centroid-1', 'weighted_centroid-1'],\n",
       " ['centroid-2', 'weighted_centroid-2'],\n",
       " ['avg distance of 4 closest points',\n",
       "  'avg distance of 5 closest points',\n",
       "  'avg distance of 6 closest points'],\n",
       " ['stddev distance of 4 closest points',\n",
       "  'stddev distance of 5 closest points',\n",
       "  'stddev distance of 6 closest points']]"
      ]
     },
     "execution_count": 8,
     "metadata": {},
     "output_type": "execute_result"
    }
   ],
   "source": [
    "correlating_keys[1]"
   ]
  },
  {
   "cell_type": "code",
   "execution_count": 9,
   "id": "8fbd70e9",
   "metadata": {},
   "outputs": [
    {
     "data": {
      "text/plain": [
       "[['area',\n",
       "  'bbox_area',\n",
       "  'convex_area',\n",
       "  'equivalent_diameter',\n",
       "  'filled_area',\n",
       "  'minor_axis_length'],\n",
       " ['feret_diameter_max', 'major_axis_length'],\n",
       " ['centroid-0', 'weighted_centroid-0'],\n",
       " ['centroid-1', 'weighted_centroid-1'],\n",
       " ['centroid-2', 'weighted_centroid-2'],\n",
       " ['avg distance of 4 closest points',\n",
       "  'avg distance of 5 closest points',\n",
       "  'avg distance of 6 closest points'],\n",
       " ['stddev distance of 4 closest points',\n",
       "  'stddev distance of 5 closest points',\n",
       "  'stddev distance of 6 closest points']]"
      ]
     },
     "execution_count": 9,
     "metadata": {},
     "output_type": "execute_result"
    }
   ],
   "source": [
    "correlating_keys[2]"
   ]
  },
  {
   "cell_type": "code",
   "execution_count": null,
   "id": "a27eaa49",
   "metadata": {},
   "outputs": [],
   "source": []
  }
 ],
 "metadata": {
  "kernelspec": {
   "display_name": "Python 3",
   "language": "python",
   "name": "python3"
  },
  "language_info": {
   "codemirror_mode": {
    "name": "ipython",
    "version": 3
   },
   "file_extension": ".py",
   "mimetype": "text/x-python",
   "name": "python",
   "nbconvert_exporter": "python",
   "pygments_lexer": "ipython3",
   "version": "3.8.8"
  }
 },
 "nbformat": 4,
 "nbformat_minor": 5
}
